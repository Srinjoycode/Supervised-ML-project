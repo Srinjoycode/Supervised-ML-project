{
  "nbformat": 4,
  "nbformat_minor": 0,
  "metadata": {
    "colab": {
      "name": "Prediction using Supervised ML.ipynb",
      "provenance": [],
      "collapsed_sections": []
    },
    "kernelspec": {
      "name": "python3",
      "display_name": "Python 3"
    },
    "language_info": {
      "name": "python"
    }
  },
  "cells": [
    {
      "cell_type": "markdown",
      "metadata": {
        "id": "GVHh2cseWoNU"
      },
      "source": [
        "# Importing the required libraries"
      ]
    },
    {
      "cell_type": "code",
      "metadata": {
        "id": "fpth6IIEQ1CG"
      },
      "source": [
        "import pandas as pd\n",
        "import numpy as np\n",
        "import matplotlib.pyplot as plt  \n",
        "import seaborn as sns\n",
        "from sklearn.linear_model import LinearRegression\n",
        "%matplotlib inline"
      ],
      "execution_count": null,
      "outputs": []
    },
    {
      "cell_type": "markdown",
      "metadata": {
        "id": "iN-0QtjFWvX3"
      },
      "source": [
        "# Load in the data"
      ]
    },
    {
      "cell_type": "code",
      "metadata": {
        "colab": {
          "base_uri": "https://localhost:8080/"
        },
        "id": "I_3CapXqWGgw",
        "outputId": "38ae02cf-08f4-4668-dbd1-2b1782080074"
      },
      "source": [
        "# Reading data from a particular url\n",
        "url = \"http://bit.ly/w-data\"\n",
        "data = pd.read_csv(url)\n",
        "print(\"Data imported successfully\")\n",
        "print(data.head())"
      ],
      "execution_count": null,
      "outputs": [
        {
          "output_type": "stream",
          "name": "stdout",
          "text": [
            "Data imported successfully\n",
            "   Hours  Scores\n",
            "0    2.5      21\n",
            "1    5.1      47\n",
            "2    3.2      27\n",
            "3    8.5      75\n",
            "4    3.5      30\n"
          ]
        }
      ]
    },
    {
      "cell_type": "markdown",
      "metadata": {
        "id": "y6zG3Rn7XL6l"
      },
      "source": [
        "# Plotting the data "
      ]
    },
    {
      "cell_type": "code",
      "metadata": {
        "colab": {
          "base_uri": "https://localhost:8080/",
          "height": 301
        },
        "id": "ysUKX3OiXLnV",
        "outputId": "bae00a98-d0bb-4859-e7b8-347c28cd30f3"
      },
      "source": [
        "# Plotting the distribution of scores\n",
        "\n",
        "# Apply the default theme\n",
        "sns.set_theme()\n",
        "plt.title('Hours Studied vs Percentage')\n",
        "sns.scatterplot(data=data, x=\"Hours\", y=\"Scores\",hue='Hours')\n",
        "plt.show()"
      ],
      "execution_count": null,
      "outputs": [
        {
          "output_type": "display_data",
          "data": {
            "image/png": "[encoded data removed]",
            "text/plain": [
              "<Figure size 432x288 with 1 Axes>"
            ]
          },
          "metadata": {}
        }
      ]
    },
    {
      "cell_type": "markdown",
      "metadata": {
        "id": "PJXvIw3maJbt"
      },
      "source": [
        "#### We clearly see that their is a positive linear relation between the number of hours studied and percentage achived."
      ]
    },
    {
      "cell_type": "markdown",
      "metadata": {
        "id": "nnrn6kiiau4m"
      },
      "source": [
        "# Data Preperation"
      ]
    },
    {
      "cell_type": "code",
      "metadata": {
        "id": "XfJz8X79akUy"
      },
      "source": [
        "X = data.iloc[:, :-1].values  \n",
        "y = data.iloc[:, 1].values"
      ],
      "execution_count": null,
      "outputs": []
    },
    {
      "cell_type": "code",
      "metadata": {
        "id": "ki5aAHo-RMbn",
        "colab": {
          "base_uri": "https://localhost:8080/"
        },
        "outputId": "50d158d8-d7e2-4826-b7e9-cb18addabfd0"
      },
      "source": [
        "# Split the data into train and test datasets\n",
        "from sklearn.model_selection import train_test_split  \n",
        "X_train, X_test, y_train, y_test = train_test_split(X, y, \n",
        "                            test_size=0.2, random_state=420) \n",
        "\n",
        "reg = LinearRegression(normalize=True).fit(X, y)"
      ],
      "execution_count": null,
      "outputs": [
        {
          "output_type": "stream",
          "name": "stderr",
          "text": [
            "/usr/local/lib/python3.7/dist-packages/sklearn/linear_model/_base.py:145: FutureWarning: 'normalize' was deprecated in version 1.0 and will be removed in 1.2.\n",
            "If you wish to scale the data, use Pipeline with a StandardScaler in a preprocessing stage. To reproduce the previous behavior:\n",
            "\n",
            "from sklearn.pipeline import make_pipeline\n",
            "\n",
            "model = make_pipeline(StandardScaler(with_mean=False), LinearRegression())\n",
            "\n",
            "If you wish to pass a sample_weight parameter, you need to pass it as a fit parameter to each step of the pipeline as follows:\n",
            "\n",
            "kwargs = {s[0] + '__sample_weight': sample_weight for s in model.steps}\n",
            "model.fit(X, y, **kwargs)\n",
            "\n",
            "\n",
            "  FutureWarning,\n"
          ]
        }
      ]
    },
    {
      "cell_type": "markdown",
      "metadata": {
        "id": "KX8kFETKbZdf"
      },
      "source": [
        "### **Training the Algorithm**\n",
        "We have split our data into training and testing sets, and now is finally the time to train our algorithm"
      ]
    },
    {
      "cell_type": "code",
      "metadata": {
        "colab": {
          "base_uri": "https://localhost:8080/"
        },
        "id": "oRu8M28JbY9c",
        "outputId": "253288dd-350a-464b-80fa-9a0e38f1c821"
      },
      "source": [
        "reg = LinearRegression()\n",
        "reg.fit(X_train,y_train)\n",
        "print(\"Training is Completed!\")"
      ],
      "execution_count": null,
      "outputs": [
        {
          "output_type": "stream",
          "name": "stdout",
          "text": [
            "Training is Completed!\n"
          ]
        }
      ]
    },
    {
      "cell_type": "markdown",
      "metadata": {
        "id": "88RTGyPwb9qy"
      },
      "source": [
        "# Plotting the linear regression line"
      ]
    },
    {
      "cell_type": "code",
      "metadata": {
        "colab": {
          "base_uri": "https://localhost:8080/",
          "height": 301
        },
        "id": "ftD_iaK0RvpE",
        "outputId": "2b917038-ae67-4372-e6c3-bed677f09853"
      },
      "source": [
        "# Plotting the distribution of scores\n",
        "line = reg.coef_*X+reg.intercept_\n",
        "\n",
        "# Apply the default theme\n",
        "sns.set_theme()\n",
        "plt.title('Hours Studied vs Percentage')\n",
        "sns.scatterplot(data=data, x=\"Hours\", y=\"Scores\",hue='Hours')\n",
        "plt.plot(X,line)\n",
        "plt.show()"
      ],
      "execution_count": null,
      "outputs": [
        {
          "output_type": "display_data",
          "data": {
            "image/png": "[encoded data removed]",
            "text/plain": [
              "<Figure size 432x288 with 1 Axes>"
            ]
          },
          "metadata": {}
        }
      ]
    },
    {
      "cell_type": "code",
      "metadata": {
        "colab": {
          "base_uri": "https://localhost:8080/"
        },
        "id": "iPE-XYOpdWQW",
        "outputId": "4f9d72cc-1aa3-475a-e6cf-1952e0f5ad7e"
      },
      "source": [
        "print(\"Testing data in hours\")\n",
        "print(X_test)"
      ],
      "execution_count": null,
      "outputs": [
        {
          "output_type": "stream",
          "name": "stdout",
          "text": [
            "Testing data in hours\n",
            "[[4.8]\n",
            " [5.1]\n",
            " [3.2]\n",
            " [5.5]\n",
            " [7.8]]\n"
          ]
        }
      ]
    },
    {
      "cell_type": "code",
      "metadata": {
        "id": "Mw7WWMh0cKRW"
      },
      "source": [
        "y_pred = reg.predict(X_test) # Predicting the scores for the test data"
      ],
      "execution_count": null,
      "outputs": []
    },
    {
      "cell_type": "markdown",
      "metadata": {
        "id": "RrL-6ZbCfM9k"
      },
      "source": [
        "# Comparing Actual vs Predicted"
      ]
    },
    {
      "cell_type": "code",
      "metadata": {
        "colab": {
          "base_uri": "https://localhost:8080/"
        },
        "id": "-YjcD6uofGg5",
        "outputId": "584fface-4a0c-4667-ec03-a9fd82bb470c"
      },
      "source": [
        "\n",
        "df = pd.DataFrame({'Actual': y_test, 'Predicted': y_pred})  \n",
        "print(df) "
      ],
      "execution_count": null,
      "outputs": [
        {
          "output_type": "stream",
          "name": "stdout",
          "text": [
            "   Actual  Predicted\n",
            "0      54  49.266443\n",
            "1      47  52.128975\n",
            "2      27  33.999604\n",
            "3      60  55.945685\n",
            "4      86  77.891765\n"
          ]
        }
      ]
    },
    {
      "cell_type": "markdown",
      "metadata": {
        "id": "06gfVAQffgcr"
      },
      "source": [
        "# Final test on our own data"
      ]
    },
    {
      "cell_type": "code",
      "metadata": {
        "colab": {
          "base_uri": "https://localhost:8080/"
        },
        "id": "I8DjJcPZfgDS",
        "outputId": "7a8d4676-8f3e-43f8-f0e7-2b4441647d91"
      },
      "source": [
        "hours = 9.25\n",
        "own_pred = reg.predict([[hours]])\n",
        "print(\"No of Hours = {}\".format(hours))\n",
        "print(\"Predicted Score = {}\".format(own_pred[0]))"
      ],
      "execution_count": null,
      "outputs": [
        {
          "output_type": "stream",
          "name": "stdout",
          "text": [
            "No of Hours = 9.25\n",
            "Predicted Score = 91.72733677285393\n"
          ]
        }
      ]
    },
    {
      "cell_type": "markdown",
      "metadata": {
        "id": "sfKKRF7agCIh"
      },
      "source": [
        "# Metrics for testing the model performance"
      ]
    },
    {
      "cell_type": "code",
      "metadata": {
        "colab": {
          "base_uri": "https://localhost:8080/"
        },
        "id": "PsWqK0NdfixI",
        "outputId": "c026d838-a149-4686-8b29-2eaa7a50fd0c"
      },
      "source": [
        "from sklearn.metrics import mean_squared_error,mean_absolute_error,r2_score\n",
        "import math\n",
        "print(\"Coefficient of Determination (R2) :\"+str(r2_score(y_test, y_pred)))\n",
        "print(\"Mean Square Error :\"+str(mean_squared_error(y_test, y_pred)))\n",
        "print(\"Mean Absolute Error :\"+str(mean_absolute_error(y_test, y_pred)))\n",
        "print(\"Root Mean Square Error :\"+str(math.sqrt(mean_squared_error(y_test, y_pred))))"
      ],
      "execution_count": null,
      "outputs": [
        {
          "output_type": "stream",
          "name": "stdout",
          "text": [
            "Coefficient of Determination (R2) :0.9019575066666821\n",
            "Mean Square Error :35.97767335359437\n",
            "Mean Absolute Error :5.804937513021796\n",
            "Root Mean Square Error :5.998139157571652\n"
          ]
        }
      ]
    },
    {
      "cell_type": "code",
      "source": [
        ""
      ],
      "metadata": {
        "id": "xaCm4QnNUySZ"
      },
      "execution_count": null,
      "outputs": []
    }
  ]
}